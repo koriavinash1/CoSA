{
 "cells": [
  {
   "cell_type": "code",
   "execution_count": 1,
   "id": "b75ee351-f6cb-4317-89aa-c64930708aa2",
   "metadata": {},
   "outputs": [],
   "source": [
    "import matplotlib.pyplot as plt\n",
    "import numpy as np\n",
    "import os\n",
    "import json"
   ]
  },
  {
   "cell_type": "code",
   "execution_count": null,
   "id": "92029ead-cf5c-4072-abe4-399faff12f9b",
   "metadata": {},
   "outputs": [],
   "source": [
    "# FID stats\n",
    "baseline = [27.26, 26.93, _, 40.51, 37.43]\n",
    "euclidian = [29.51, 31.50, 32.71, 35.70, 38.44]\n",
    "cosine = [33.01, 34.90, _]\n",
    "gumble = []"
   ]
  },
  {
   "cell_type": "code",
   "execution_count": null,
   "id": "5b28ebd3-132f-48c9-b702-57d32a53cd1b",
   "metadata": {},
   "outputs": [],
   "source": [
    "# SFID stats\n",
    "baseline = [219.57, 166.96, _, 235.28, 219.46]\n",
    "euclidian = [229.75, 227.04, 196.29, 196.21, 224.91]\n",
    "cosine = [178.57, 178.72, _]\n",
    "gumble = []"
   ]
  },
  {
   "cell_type": "code",
   "execution_count": null,
   "id": "1dca4c64-457e-46d8-8756-f6d766072f21",
   "metadata": {},
   "outputs": [],
   "source": [
    "# MSE stats\n",
    "baseline = [3.68, 3.78, _, 4.42, 4.21]\n",
    "euclidian = [3.19, 3.305, 3.303, 3.755, 4.10]\n",
    "cosine = [4.07, 4.03, _, 3.51, 4.42]\n",
    "gumble = [4.42, 3.93, 3.68, 3.80, 3.91]"
   ]
  }
 ],
 "metadata": {
  "kernelspec": {
   "display_name": "Python 3 (ipykernel)",
   "language": "python",
   "name": "python3"
  },
  "language_info": {
   "codemirror_mode": {
    "name": "ipython",
    "version": 3
   },
   "file_extension": ".py",
   "mimetype": "text/x-python",
   "name": "python",
   "nbconvert_exporter": "python",
   "pygments_lexer": "ipython3",
   "version": "3.7.2"
  }
 },
 "nbformat": 4,
 "nbformat_minor": 5
}
